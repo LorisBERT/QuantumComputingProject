{
 "cells": [
  {
   "cell_type": "markdown",
   "metadata": {
    "colab_type": "text",
    "id": "dvUeeN1aCbA5"
   },
   "source": [
    "# Quantum Computing Project - TensorFlow Quantum\n",
    "\n",
    "**BERT Loris**  \n",
    "**PHAM Duy Anh Philippe**  \n",
    "**VATIN Clément**  \n",
    "\n",
    "CPE Lyon  \n",
    "05/2020  \n",
    "\n",
    "*Ce notebook est un tutoriel sur <a href=\"https://www.tensorflow.org/quantum\">TensorFlow Quantum</a> (TFQ) réalisé dans le cadre du cours d'Informatique Quantique de M. Fredici à CPE Lyon.* \n",
    "___ \n",
    "\n",
    "<table class=\"tfo-notebook-buttons\" align=\"left\">\n",
    "  <td>\n",
    "    <a target=\"_blank\" href=\"https://colab.research.google.com/drive/1yYL4UUY6Af9qVJYIoa2uGyeeO3-ESaMZ?usp=sharing\"><img src=\"https://www.tensorflow.org/images/colab_logo_32px.png\" />Lien Google Colab</a>\n",
    "  </td>\n",
    "  <td>\n",
    "    <a target=\"_blank\" href=\"https://github.com/LorisBERT/QuantumComputingProject\"><img src=\"https://www.tensorflow.org/images/GitHub-Mark-32px.png\" />Lien GitHub</a>\n",
    "  </td>\n",
    "</table>  "
   ]
  },
  {
   "cell_type": "markdown",
   "metadata": {
    "colab_type": "text",
    "id": "0JaZ9ia1CbDR"
   },
   "source": [
    "## Introduction\n",
    "\n",
    "Le **Deep Learning** et l'**Informatique Quantique** sont deux technologies de pointes ayant le potentiel de révolutionner le monde de l'informatique et par conséquent le monde entier. Le Deep Learning (et par extension, toutes les techniques d'Intelligence Artificielle) a commencé son essor il y a une petite dizaine d'année et fait déjà partie intégrante de notre quotidien, sans même en avoir forcément conscience. Depuis 2 ou 3 ans, l'Informatique Quantique semble prendre le même chemin et chaque mois, de nombreux papiers de recherches sont publiés et réalisent de grandes avancées technologiques ou algorithmiques.  \n",
    "**Tensorflow Quantum** vient ainsi se placer à l'intersection de ces deux domaines sous la forme d'un module Python de Machine Learning Quantique construit à partir de TenforFlow et Cirq :  \n",
    "* <a href=\"https://www.tensorflow.org\">TensorFlow</a> est une librairie Open-Source de Machine Learning classique développée par Google et utilisée par de très nombreuses entreprises et laboratoires de recherche.  \n",
    "* <a href=\"https://cirq.readthedocs.io/\">Cirq</a> est une librairie également développée par Google qui permet de réaliser des circuits quantiques et de les simuler sur un ordinateur classique ou de les lancer directement sur un ordinateur quantique."
   ]
  },
  {
   "cell_type": "markdown",
   "metadata": {
    "colab_type": "text",
    "id": "niSXtXdhCbFw"
   },
   "source": [
    "## Sommaire  \n",
    "### I - [Introduction au Deep Learning](#part_1)\n",
    "### II - [Introduction à l'Informatique Quantique](#part_2)\n",
    "### III - [Réseau de Neurones Quantique](#part_3)\n",
    "### IV - [Réseau de Neurones Classique](#part_4)\n",
    "### V - [Conclusion](#part_5)"
   ]
  },
  {
   "cell_type": "markdown",
   "metadata": {
    "colab_type": "text",
    "id": "WcP66oeNCbIT"
   },
   "source": [
    "<a id=\"part_1\"></a>\n",
    "# I - Introduction au Deep Learning"
   ]
  },
  {
   "cell_type": "markdown",
   "metadata": {
    "colab_type": "text",
    "id": "4E4qJOlECbV5"
   },
   "source": [
    "Le **Deep Learning** (DL) est une branche du *Machine Learning* (ML), elle même issu de la recherche en *Intelligence Artificielle* (IA). La spécificité du Deep Learning réside dans la capacité de l'algorithme à déterminer des régularités par elle même, à l'aide d'entrée initiale. Inspiré du cerveau humain, ces algorithmes sont composés de couches de neurones, et c'est leurs nombres qui vont qualifier la complexité du réseau de neurones. Outre ces caractéristiques, il existe plusieurs méthodes d'apprentissage :\n",
    "\n",
    "- **L'apprentissage supervisé** consiste en la détermination de régularité à partir d'entrées labélisées au préalable. Cette méthode nécessite une grande quantité de données annotées, le plus souvent par des humains.\n",
    "\n",
    "- **L'apprentissage non supervisé** consiste à laisser l'algorithme trouver lui même les caractéristiques propres aux données. Cette méthode nécessite un jeu de données plus spécifique et convient plutôt aux problèmes de 'Clustering'.\n",
    "\n",
    "- **L'apprentissage par renforcement** joue sur l'interaction entre un agent et un environnement. L'agent effectue des actions dans son environement et est récompensé si celles-ci vont dans la direction souhaitée. Cette méthode permet l'interaction d'un humain dans la boucle et est très utilisée en robotique. \n"
   ]
  },
  {
   "cell_type": "markdown",
   "metadata": {
    "colab_type": "text",
    "id": "AAt-4TE5AcWW"
   },
   "source": [
    "Les **réseaux de neurones artificiels** sont inspirés des réseaux de neurones biologiques. Ils sont constitués de noeuds (appelés *Perceptrons*) possédant un biais B et sont reliés entre eux par des liaisons appelées des poids W. Lorsqu'une valeur x est passée à la couche d'entrée du réseau, elle est multipliée par le poids de chaque connections aux neurones de la couche suivante, auquel vient s'ajouter le biais propre à chaque neurone. On obtient alors une équation de la forme y = x\\*w + b. L'opération est alors répétée avec la couche suivante et ainsi de suite jusqu'à la couche de sortie du réseau.  \n",
    "Or l'équation précédente possède une caractéristique qui fait toute la puissance des réseaux de neurones : elle peut s'écrire sous forme matricielle Y = XW + B. On peut alors utiliser la forte capacité de parallélisation des cartes graphiques et ainsi diviser drastiquement le temps de calcul.  \n",
    "La phase d'apprentissage utilise une *fonction de coût* qui permet de calculer l'écart entre la valeur en sortie du réseau et la valeur désirée ; suivie d'une étape de *rétropropagation du gradient* qui fait remonter cet écart le long du réseau et va venir modifier légèrement les poids de chaque connections afin de faire diminuer la fonction de coût.\n",
    "\n",
    "<p align=\"center\">\n",
    "    <img src=\"https://assets.website-files.com/5ac6b7f2924c652fd013a891/5d52f096076d2b058e88cf0c_Artificial-neural-network-architecture-ANN-i-h-1-h-2-h-n-o.png\"\n",
    "     alt=\"reseau-de-neurones\"/>\n",
    "</p>\n",
    "<p align=\"center\">\n",
    "     <i> Représentation simplifiée d'un réseau de neurones possédant 3 couches intermédiares </i>\n",
    "     </br>\n",
    "</p>"
   ]
  },
  {
   "cell_type": "markdown",
   "metadata": {
    "colab_type": "text",
    "id": "8SbnyBZGC-Kd"
   },
   "source": [
    "<a id=\"part_2\"></a>\n",
    "# II - Introduction à l'Informatique Quantique"
   ]
  },
  {
   "cell_type": "markdown",
   "metadata": {
    "colab_type": "text",
    "id": "RlUG5a2fC-Oe"
   },
   "source": [
    "\n",
    "La **programmation quantique** est apparue dans les années 80 avec le premier modèle quantique de la machine de Turing pensé par Paul Benioff.\n",
    "C'est un changement de paradigme par rapport à nos ordinateur dits \"classiques\" et permet un calcul beaucoup plus rapide pour de nombreuses applications grâce à ses propriétés physiques. Ainsi,  *2<sup>n</sup>* bits =  *n* qubits.  \n",
    "\n",
    "En permettant de simuler des systèmes extrêmement complexes, c'est donc devenu un enjeu majeur de recherche pour de grands groupes comme Google ou IBM par exemple.\n",
    "La programmation quantique, de par son scalling exponentiel, va bouleverser les systèmes numériques dans quelques années à venir. Certains algorithmes de chiffrement comme le RSA ne sont pas pensés pour résister à l'arrivée des processeurs quantiques. Ces algorithmes reposent sur des opérations mathématiques dites à sens unique où un sens est beaucoup plus facile à calculer que l'autre. Les ordinateurs actuels n'étant pas assez puissants pour effectuer l'opération inverse durant le temps où la donnée est confidentielle, la sécurité est préservée. Les ordinateurs quantiques, de par leur puissance peuvent effectuer ces opérations beaucoup plus rapidement et mettre en péril la confidentialité de ces données. La clef privée RSA peut par exemple être obtenue via l'algorithme de Shor.\n",
    "\n",
    "La physique quantique amène deux propriétés essentielles :\n",
    "\n",
    "* **La superposition**, qui spécifie que l’état de la particule n’est pas défini tant qu’il n’est pas mesuré. Les deux états sont possibles et ont chacun une probabilité associée, et c’est seulement la mesure qui va fixer son état.\n",
    "\n",
    "*  **L’intrication quantique**, qui permet de relier deux bits quantiques. Leurs états sont dépendants l'un de l'autre et la mesure du premier nous donne directement la valeur du second.  "
   ]
  },
  {
   "cell_type": "markdown",
   "metadata": {
    "colab_type": "text",
    "id": "n-TrqS8bAuZq"
   },
   "source": [
    "La programmation d'un processeur quantique est bien différente de celle d'un PC classique et repose sur l’utilisation d'opérations matricielles appelées *Portes quantiques*. Les qubits sont habituellement représentés par une *Sphère de Bloch* car cela permet de visualiser leur état comme un vecteur à 3 dimensions en une seule figure. On vient alors appliquer des portes quantiques à cet état et ainsi lui faire faire des rotations autour des différents axes jusqu'à obtenir l'état final souhaité.\n",
    "\n",
    "<p align=\"center\">\n",
    "    <img src=\"https://cdn-images-1.medium.com/freeze/max/1000/1*SRmbIAz2E2meISGn7Go5CQ.png?q=20\"\n",
    "     alt=\"Bloch sphere\"/>\n",
    "</p>\n",
    "<p align=\"center\">\n",
    "     <i> Sphère de Bloch d'un qubit dans l'état 0 </i>\n",
    "     </br>\n",
    "</p>"
   ]
  },
  {
   "cell_type": "markdown",
   "metadata": {
    "colab_type": "text",
    "id": "UQAbkrw0A1DI"
   },
   "source": [
    "Au moment d'écrire ce notebook, les plus gros processeurs quantiques de la planète ne sont que d'une cinquantaine de qubits et ne représentent aucune menace pour la sécurité numérique. Les enjeux majeurs à surmonter dans un premier temps pour créer un ordinateur quantique capable de réellement surpasser un ordinateur classique sont le nombre de qubits et la réduction du bruit ; puis dans un second temps, la correction des erreurs. Une approche hybride appelée NISQ (Noisy Intermediate Scale Quantum) utilise un processeur classique mais délègue la partie la plus lourde en calculs au processeur quantique et améliore ainsi significativement la qualité des résultats. \n",
    "\n",
    "\n"
   ]
  },
  {
   "cell_type": "markdown",
   "metadata": {
    "colab_type": "text",
    "id": "8fSOl8-DC-Q3"
   },
   "source": [
    "<a id=\"part_3\"></a>\n",
    "# III - Réseau de Neurones Quantique"
   ]
  },
  {
   "cell_type": "markdown",
   "metadata": {
    "colab_type": "text",
    "id": "-RwnCLA3C-TQ"
   },
   "source": [
    "Dans cette partie, nous allons voir comment construire un **Réseau de Neurones Quantique** (ou Quantum Neural Network, QNN) en utilisant la librairie *TensorFlow Quantum*.  \n",
    "\n",
    "L'objectif est de pouvoir réaliser une tache de classification de chiffres à partir d'une version simplifiée de MNIST. **MNIST** est un dataset composé de 70.000 images de 28 par 28 pixels représentant des chiffres entre 0 et 9 écrits à la main, et est considéré comme le \"Hello world\" du Machine Learning. Ce problème est résolu depuis plusieurs années et les meilleurs modèles atteignent des scores de plus de 99.7%.  \n",
    "\n",
    "<p align=\"center\">\n",
    "    <img src=\"https://miro.medium.com/max/372/1*AO2rIhzRYzFVQlFLx9DM9A.png\"\n",
    "     alt=\"MNIST numbers\"/>\n",
    "</p>\n",
    "<p align=\"center\">\n",
    "     <i> Images du dataset MNIST </i>\n",
    "     </br>\n",
    "</p>\n",
    "\n",
    "\n"
   ]
  },
  {
   "cell_type": "markdown",
   "metadata": {
    "colab_type": "text",
    "id": "Df4c1ipS3bWd"
   },
   "source": [
    "\n",
    "Cependant, la taille des images (28\\*28=784 pixels) et le nombre de classes (10, de 0 à 9) nécessitent un circuit quantique bien trop grand pour être simulé sur un ordinateur classique. Nous allons donc devoir réduire la complexité du problème : le nouvel objectif consiste à classifier des images de 0 et de 1, de taille 4\\*4=16 pixels."
   ]
  },
  {
   "cell_type": "markdown",
   "metadata": {
    "colab_type": "text",
    "id": "QOK4VId4C-Vp"
   },
   "source": [
    "## Setup"
   ]
  },
  {
   "cell_type": "markdown",
   "metadata": {
    "colab_type": "text",
    "id": "FLKMXd0xYgFF"
   },
   "source": [
    "Dans un premier temps, il nous faut installer et importer toutes les librairies nécessaires."
   ]
  },
  {
   "cell_type": "code",
   "execution_count": 1,
   "metadata": {
    "colab": {
     "base_uri": "https://localhost:8080/",
     "height": 151
    },
    "colab_type": "code",
    "id": "8wGY3j4MDSIM",
    "outputId": "53aa75c3-fce2-4252-fb0a-40debad3d62c"
   },
   "outputs": [],
   "source": [
    "# !pip install --upgrade pip\n",
    "# !pip install -q tensorflow==2.1.0\n",
    "# !pip install -q cirq==0.7.0\n",
    "# !pip install -q tensorflow-quantum"
   ]
  },
  {
   "cell_type": "code",
   "execution_count": 2,
   "metadata": {
    "colab": {},
    "colab_type": "code",
    "id": "6r-pTfk3DPoi"
   },
   "outputs": [],
   "source": [
    "import tensorflow as tf\n",
    "import tensorflow_quantum as tfq\n",
    "\n",
    "import cirq\n",
    "import sympy\n",
    "import collections\n",
    "import numpy as np\n",
    "import seaborn as sns\n",
    "import matplotlib.pyplot as plt\n",
    "\n",
    "from time import time\n",
    "from cirq.contrib.svg import SVGCircuit\n",
    "\n",
    "tf.random.set_seed(123)\n",
    "np.random.seed(123)\n",
    "\n",
    "%matplotlib inline"
   ]
  },
  {
   "cell_type": "markdown",
   "metadata": {
    "colab_type": "text",
    "id": "ZVv0kD8gC-b1"
   },
   "source": [
    "## Chargement des données"
   ]
  },
  {
   "cell_type": "markdown",
   "metadata": {
    "colab_type": "text",
    "id": "kc9LgBNwZM2e"
   },
   "source": [
    "Il faut maintenant charger les images du dataset MNIST. Pour cela on utilise le module de keras nous permettant de télécharger et d'extraire les données en une seule ligne de code. Il est divisé en 2 sous-datasets : le premier de 60.000 images pour entrainer notre modèle et le deuxième de 10.000 images pour le tester."
   ]
  },
  {
   "cell_type": "code",
   "execution_count": 3,
   "metadata": {
    "colab": {},
    "colab_type": "code",
    "id": "qwJ97f1KDW0X"
   },
   "outputs": [],
   "source": [
    "(x_train, y_train), (x_test, y_test) = tf.keras.datasets.mnist.load_data()"
   ]
  },
  {
   "cell_type": "markdown",
   "metadata": {
    "colab_type": "text",
    "id": "d0kg0vSuiPmx"
   },
   "source": [
    "## Preprocessing"
   ]
  },
  {
   "cell_type": "markdown",
   "metadata": {
    "colab_type": "text",
    "id": "0koaF9oGiP4k"
   },
   "source": [
    "Une fois le dataset chargé, quelques étapes de préprocessing sont nécessaires pour extraire les images de 0 et de 1 et ainsi constituer notre nouveau dataset d'entrainement pour le QNN. Tous les pixels sont ensuite binarisés afin de pouvoir les encoder sur des qubits (prochaine partie). "
   ]
  },
  {
   "cell_type": "code",
   "execution_count": 4,
   "metadata": {
    "colab": {
     "base_uri": "https://localhost:8080/",
     "height": 67
    },
    "colab_type": "code",
    "id": "_mEwJXoji-oa",
    "outputId": "4fdeb523-e954-4a3a-e59f-77df3fef81a3"
   },
   "outputs": [
    {
     "name": "stdout",
     "output_type": "stream",
     "text": [
      "Nombre d'images 'train' : 60000\n",
      "Nombre d'images 'test' : 10000\n",
      "Taille des images : (28, 28)\n"
     ]
    }
   ],
   "source": [
    "# Normalisation des valeurs [0,255] -> [0,1]\n",
    "x_train = x_train / 255.0\n",
    "x_test = x_test / 255.0\n",
    "\n",
    "# Ajout d'une dimension supplementaire nécessaire pour l'entrée du Réseau de Neurone\n",
    "x_train = x_train[..., np.newaxis]\n",
    "x_test = x_test[..., np.newaxis]\n",
    "\n",
    "print(\"Nombre d'images 'train' :\", len(x_train))\n",
    "print(\"Nombre d'images 'test' :\", len(x_test))\n",
    "print(\"Taille des images :\", x_train.shape[1:3])"
   ]
  },
  {
   "cell_type": "code",
   "execution_count": 5,
   "metadata": {
    "colab": {},
    "colab_type": "code",
    "id": "fQalotEunCFu"
   },
   "outputs": [],
   "source": [
    "def filtre_01(x, y):\n",
    "    \"\"\" Extraction des valeurs 0 et 1 \"\"\"\n",
    "\n",
    "    # Extraction des 0 et des 1\n",
    "    condition_01 = (y == 0) | (y == 1)\n",
    "    x, y = x[condition_01], y[condition_01]\n",
    "\n",
    "    # Transformation des labels 0/1 en False/True\n",
    "    y = (y == 1)\n",
    "\n",
    "    return x, y"
   ]
  },
  {
   "cell_type": "code",
   "execution_count": 6,
   "metadata": {
    "colab": {
     "base_uri": "https://localhost:8080/",
     "height": 50
    },
    "colab_type": "code",
    "id": "VymjWuHonZu1",
    "outputId": "a62a8a37-e1d0-4126-a833-c6080f6e96cb"
   },
   "outputs": [
    {
     "name": "stdout",
     "output_type": "stream",
     "text": [
      "Nombre d'images 'train' après filtrage : 12665 (21.1%)\n",
      "Nombre d'images 'test' après filtrage : 2115 (21.1%)\n"
     ]
    }
   ],
   "source": [
    "# Filtrage du dataset\n",
    "x_train, y_train = filtre_01(x_train, y_train)\n",
    "x_test, y_test = filtre_01(x_test, y_test)\n",
    "\n",
    "print(\"Nombre d'images 'train' après filtrage : {} ({}%)\".format(len(x_train), round(100*len(x_train)/60_000, 1)))\n",
    "print(\"Nombre d'images 'test' après filtrage : {} ({}%)\".format(len(x_test), round(100*len(x_test)/10_000, 1)))"
   ]
  },
  {
   "cell_type": "code",
   "execution_count": 7,
   "metadata": {
    "colab": {},
    "colab_type": "code",
    "id": "UlwQ_foXoKX9"
   },
   "outputs": [],
   "source": [
    "# Redimensionnement des images (28,28) -> (4,4)\n",
    "x_train_small = tf.image.resize(x_train, (4,4)).numpy()\n",
    "x_test_small = tf.image.resize(x_test, (4,4)).numpy()"
   ]
  },
  {
   "cell_type": "code",
   "execution_count": 8,
   "metadata": {
    "colab": {},
    "colab_type": "code",
    "id": "Wbpv604HRufB"
   },
   "outputs": [],
   "source": [
    "# Binarisation des images\n",
    "x_train_bin = np.array(x_train_small > 0.5, dtype=np.float32)\n",
    "x_test_bin = np.array(x_test_small > 0.5, dtype=np.float32)"
   ]
  },
  {
   "cell_type": "code",
   "execution_count": 9,
   "metadata": {
    "colab": {
     "base_uri": "https://localhost:8080/",
     "height": 353
    },
    "colab_type": "code",
    "id": "tQoQqvXvprbX",
    "outputId": "44e929a3-1dca-4d30-e9b2-66616a30dcf7"
   },
   "outputs": [
    {
     "data": {
      "text/plain": [
       "<matplotlib.colorbar.Colorbar at 0x1bee01e1f48>"
      ]
     },
     "execution_count": 9,
     "metadata": {},
     "output_type": "execute_result"
    },
    {
     "data": {
      "image/png": "[encoded data removed]",
      "text/plain": [
       "<Figure size 792x360 with 12 Axes>"
      ]
     },
     "metadata": {
      "needs_background": "light"
     },
     "output_type": "display_data"
    }
   ],
   "source": [
    "# Comparaison des images\n",
    "plt.figure(figsize=(11,5))\n",
    "\n",
    "plt.subplot(2,3,1)\n",
    "plt.imshow(x_train[0].reshape((28,28)), vmin=0, vmax=1)\n",
    "plt.title(\"Image orginale\")\n",
    "plt.colorbar()\n",
    "plt.subplot(2,3,2)\n",
    "plt.imshow(x_train_small[0].reshape((4,4)), vmin=0, vmax=1)\n",
    "plt.title(\"Image redimensionnée\")\n",
    "plt.colorbar()\n",
    "plt.subplot(2,3,3)\n",
    "plt.imshow(x_train_bin[0].reshape((4,4)), vmin=0, vmax=1)\n",
    "plt.title(\"Image binarisée\")\n",
    "plt.colorbar()\n",
    "\n",
    "plt.subplot(2,3,4)\n",
    "plt.imshow(x_train[1].reshape((28,28)), vmin=0, vmax=1)\n",
    "plt.colorbar()\n",
    "plt.subplot(2,3,5)\n",
    "plt.imshow(x_train_small[1].reshape((4,4)), vmin=0, vmax=1)\n",
    "plt.colorbar()\n",
    "plt.subplot(2,3,6)\n",
    "plt.imshow(x_train_bin[1].reshape((4,4)), vmin=0, vmax=1)\n",
    "plt.colorbar()"
   ]
  },
  {
   "cell_type": "markdown",
   "metadata": {
    "colab_type": "text",
    "id": "cjLTCtv1rZI5"
   },
   "source": [
    "## Encodage des données"
   ]
  },
  {
   "cell_type": "markdown",
   "metadata": {
    "colab_type": "text",
    "id": "5lumMUJZrZVq"
   },
   "source": [
    "Afin de pouvoir réaliser des calculs sur ces données avec un processeur quantique, on représente chaque pixel par un qubit dont l'état dépend de la valeur du pixel. Les images étant binarisées pendant l'étape de prétraitement, on peut encoder la valeur des qubits via la présence ou non d'une porte *X*."
   ]
  },
  {
   "cell_type": "code",
   "execution_count": 10,
   "metadata": {
    "colab": {},
    "colab_type": "code",
    "id": "Z_SI1C7ErZpC"
   },
   "outputs": [],
   "source": [
    "def encodage_qubits(image):\n",
    "    \"\"\" Encodage des pixels de l'image en qubits \"\"\"\n",
    "    \n",
    "    values = np.ndarray.flatten(image)  # Transformation de l'image 2D en liste 1D de pixels\n",
    "    qubits = cirq.GridQubit.rect(4,4)  # Creation d'une grille de qubits de la même taille que l'image\n",
    "    circuit = cirq.Circuit()  # Creation du circuit\n",
    "    \n",
    "    # Rotation par une porte X des pixels à 1 dans l'image\n",
    "    for i, value in enumerate(values):\n",
    "        if value == 1:\n",
    "            circuit.append(cirq.X(qubits[i]))\n",
    "            \n",
    "    return circuit"
   ]
  },
  {
   "cell_type": "code",
   "execution_count": 11,
   "metadata": {
    "colab": {},
    "colab_type": "code",
    "id": "v9GuEzE1rZra"
   },
   "outputs": [],
   "source": [
    "# Encodage des pixels de chaque images en qubits\n",
    "x_train_circ = [encodage_qubits(x) for x in x_train_bin]\n",
    "x_test_circ = [encodage_qubits(x) for x in x_test_bin]"
   ]
  },
  {
   "cell_type": "code",
   "execution_count": 12,
   "metadata": {
    "colab": {
     "base_uri": "https://localhost:8080/",
     "height": 71
    },
    "colab_type": "code",
    "id": "fCN1G_Y4WIe_",
    "outputId": "b63c0b3a-f650-4b3c-84e9-d192ed834566"
   },
   "outputs": [
    {
     "data": {
      "image/svg+xml": [
       "<svg xmlns=\"http://www.w3.org/2000/svg\" width=\"164.49359375\" height=\"50.0\"><line x1=\"32.246796875\" x2=\"134.49359375\" y1=\"25.0\" y2=\"25.0\" stroke=\"#1967d2\" stroke-width=\"1\" /><rect x=\"10.0\" y=\"5.0\" width=\"44.49359375\" height=\"40\" stroke=\"black\" fill=\"white\" stroke-width=\"0\" /><text x=\"32.246796875\" y=\"25.0\" dominant-baseline=\"middle\" text-anchor=\"middle\" font-size=\"14px\">(1, 1): </text><rect x=\"74.49359375\" y=\"5.0\" width=\"40\" height=\"40\" stroke=\"black\" fill=\"white\" stroke-width=\"1\" /><text x=\"94.49359375\" y=\"25.0\" dominant-baseline=\"middle\" text-anchor=\"middle\" font-size=\"18px\">X</text></svg>"
      ],
      "text/plain": [
       "<cirq.contrib.svg.svg.SVGCircuit at 0x1c0b100fe08>"
      ]
     },
     "execution_count": 12,
     "metadata": {},
     "output_type": "execute_result"
    }
   ],
   "source": [
    "# Affichage du circuit (les qubits à 0 ne sont pas affichés)\n",
    "SVGCircuit(x_train_circ[0])"
   ]
  },
  {
   "cell_type": "code",
   "execution_count": 13,
   "metadata": {
    "colab": {
     "base_uri": "https://localhost:8080/",
     "height": 121
    },
    "colab_type": "code",
    "id": "Xy-Q5SE6enUO",
    "outputId": "636e0f05-72c6-4707-86c9-de202ae69309"
   },
   "outputs": [
    {
     "data": {
      "image/svg+xml": [
       "<svg xmlns=\"http://www.w3.org/2000/svg\" width=\"164.49359375\" height=\"100.0\"><line x1=\"32.246796875\" x2=\"134.49359375\" y1=\"25.0\" y2=\"25.0\" stroke=\"#1967d2\" stroke-width=\"1\" /><line x1=\"32.246796875\" x2=\"134.49359375\" y1=\"75.0\" y2=\"75.0\" stroke=\"#1967d2\" stroke-width=\"1\" /><rect x=\"10.0\" y=\"5.0\" width=\"44.49359375\" height=\"40\" stroke=\"black\" fill=\"white\" stroke-width=\"0\" /><text x=\"32.246796875\" y=\"25.0\" dominant-baseline=\"middle\" text-anchor=\"middle\" font-size=\"14px\">(1, 2): </text><rect x=\"10.0\" y=\"55.0\" width=\"44.49359375\" height=\"40\" stroke=\"black\" fill=\"white\" stroke-width=\"0\" /><text x=\"32.246796875\" y=\"75.0\" dominant-baseline=\"middle\" text-anchor=\"middle\" font-size=\"14px\">(3, 1): </text><rect x=\"74.49359375\" y=\"5.0\" width=\"40\" height=\"40\" stroke=\"black\" fill=\"white\" stroke-width=\"1\" /><text x=\"94.49359375\" y=\"25.0\" dominant-baseline=\"middle\" text-anchor=\"middle\" font-size=\"18px\">X</text><rect x=\"74.49359375\" y=\"55.0\" width=\"40\" height=\"40\" stroke=\"black\" fill=\"white\" stroke-width=\"1\" /><text x=\"94.49359375\" y=\"75.0\" dominant-baseline=\"middle\" text-anchor=\"middle\" font-size=\"18px\">X</text></svg>"
      ],
      "text/plain": [
       "<cirq.contrib.svg.svg.SVGCircuit at 0x1c0b10166c8>"
      ]
     },
     "execution_count": 13,
     "metadata": {},
     "output_type": "execute_result"
    }
   ],
   "source": [
    "SVGCircuit(x_train_circ[1])"
   ]
  },
  {
   "cell_type": "code",
   "execution_count": 14,
   "metadata": {
    "colab": {},
    "colab_type": "code",
    "id": "qJJ7n0LwhEmr"
   },
   "outputs": [],
   "source": [
    "# Convertion des circuits CIRQ en 'tensor' pour TFQ\n",
    "x_train_tfq = tfq.convert_to_tensor(x_train_circ)\n",
    "x_test_tfq = tfq.convert_to_tensor(x_test_circ)"
   ]
  },
  {
   "cell_type": "markdown",
   "metadata": {
    "colab_type": "text",
    "id": "RNDoKELJhDPa"
   },
   "source": [
    "## Creation du modèle quantique (QNN)"
   ]
  },
  {
   "cell_type": "markdown",
   "metadata": {
    "colab_type": "text",
    "id": "tj94ylegrZ_Z"
   },
   "source": [
    "Les données d'entrée étant désormais traitées et encodées, on peut s'atteler à la création du modèle quantique. Pour cela nous allons créer une classe qui va nous permettre de manipuler plus facilement les couches (ou 'layers') de notre circuit, tel un réseau de neurones classique."
   ]
  },
  {
   "cell_type": "code",
   "execution_count": 15,
   "metadata": {
    "colab": {},
    "colab_type": "code",
    "id": "dKKjffxEkEkZ"
   },
   "outputs": [],
   "source": [
    "class CircuitLayerBuilder():\n",
    "    def __init__(self, data_qubits, readout_qubit):\n",
    "        \"\"\" Initialisation de la classe\"\"\"\n",
    "        self.data_qubits = data_qubits      # Qubits de données/calculs\n",
    "        self.readout_qubit = readout_qubit  # Qubit de lecture\n",
    "    \n",
    "    def add_layer(self, circuit, gate, prefix):\n",
    "        \"\"\" Ajout d'un layer quantique\"\"\"\n",
    "        for i, qubit in enumerate(self.data_qubits):\n",
    "            symbol = sympy.Symbol(prefix + '-' + str(i))\n",
    "            circuit.append(gate(qubit, self.readout_qubit)**symbol)"
   ]
  },
  {
   "cell_type": "markdown",
   "metadata": {
    "colab_type": "text",
    "id": "SUoEiQIMkzQa"
   },
   "source": [
    "Chaque layer implémente n instances de la même porte à 2 qubits (avec n la taille des images, 4*4=16 dans notre cas). Chaque qubits de donnée agit donc sur le qubit de lecture et permet à l'information de se propager le long du modèle."
   ]
  },
  {
   "cell_type": "code",
   "execution_count": 16,
   "metadata": {
    "colab": {},
    "colab_type": "code",
    "id": "w34qB2Lgkysz"
   },
   "outputs": [],
   "source": [
    "def creation_modele_quantique():\n",
    "    \"\"\"Creation d'un QNN\"\"\"\n",
    "    \n",
    "    data_qubits = cirq.GridQubit.rect(4, 4)  # Grille de qubits de données\n",
    "    readout_qubit = cirq.GridQubit(-1, -1)   # Unique qubit de lecture\n",
    "    circuit = cirq.Circuit()                 # Circuit quantique\n",
    "    \n",
    "    # Preparation du qubit de lecture\n",
    "    circuit.append(cirq.X(readout_qubit))\n",
    "    circuit.append(cirq.H(readout_qubit))\n",
    "    \n",
    "    # Creation du constructeur du modèle\n",
    "    builder = CircuitLayerBuilder(data_qubits = data_qubits,\n",
    "                                  readout_qubit = readout_qubit)\n",
    "\n",
    "    # Ajout des layers (partie libre à l'expérimentation)\n",
    "    builder.add_layer(circuit, cirq.XX, \"xx1\")\n",
    "    builder.add_layer(circuit, cirq.ZZ, \"zz1\")\n",
    "    # D'autres portes à 2 qubits sont possibles :\n",
    "    # https://cirq.readthedocs.io/en/stable/gates.html#Two-qubit-gates\n",
    "\n",
    "    # Preparation du qubit de lecture\n",
    "    circuit.append(cirq.H(readout_qubit))\n",
    "\n",
    "    return circuit, cirq.Z(readout_qubit)"
   ]
  },
  {
   "cell_type": "code",
   "execution_count": 17,
   "metadata": {
    "colab": {
     "base_uri": "https://localhost:8080/",
     "height": 891
    },
    "colab_type": "code",
    "id": "F-8Ed-qekshC",
    "outputId": "2d6e91c5-9e34-4c7b-db44-314ad5f49d18"
   },
   "outputs": [
    {
     "data": {
      "image/svg+xml": [
       "<svg xmlns=\"http://www.w3.org/2000/svg\" width=\"3502.135781249998\" height=\"850.0\"><line x1=\"36.90890625\" x2=\"3472.135781249998\" y1=\"25.0\" y2=\"25.0\" stroke=\"#1967d2\" stroke-width=\"1\" /><line x1=\"36.90890625\" x2=\"3472.135781249998\" y1=\"75.0\" y2=\"75.0\" stroke=\"#1967d2\" stroke-width=\"1\" /><line x1=\"36.90890625\" x2=\"3472.135781249998\" y1=\"125.0\" y2=\"125.0\" stroke=\"#1967d2\" stroke-width=\"1\" /><line x1=\"36.90890625\" x2=\"3472.135781249998\" y1=\"175.0\" y2=\"175.0\" stroke=\"#1967d2\" stroke-width=\"1\" /><line x1=\"36.90890625\" x2=\"3472.135781249998\" y1=\"225.0\" y2=\"225.0\" stroke=\"#1967d2\" stroke-width=\"1\" /><line x1=\"36.90890625\" x2=\"3472.135781249998\" y1=\"275.0\" y2=\"275.0\" stroke=\"#1967d2\" stroke-width=\"1\" /><line x1=\"36.90890625\" x2=\"3472.135781249998\" y1=\"325.0\" y2=\"325.0\" stroke=\"#1967d2\" stroke-width=\"1\" /><line x1=\"36.90890625\" x2=\"3472.135781249998\" y1=\"375.0\" y2=\"375.0\" stroke=\"#1967d2\" stroke-width=\"1\" /><line x1=\"36.90890625\" x2=\"3472.135781249998\" y1=\"425.0\" y2=\"425.0\" stroke=\"#1967d2\" stroke-width=\"1\" /><line x1=\"36.90890625\" x2=\"3472.135781249998\" y1=\"475.0\" y2=\"475.0\" stroke=\"#1967d2\" stroke-width=\"1\" /><line x1=\"36.90890625\" x2=\"3472.135781249998\" y1=\"525.0\" y2=\"525.0\" stroke=\"#1967d2\" stroke-width=\"1\" /><line x1=\"36.90890625\" x2=\"3472.135781249998\" y1=\"575.0\" y2=\"575.0\" stroke=\"#1967d2\" stroke-width=\"1\" /><line x1=\"36.90890625\" x2=\"3472.135781249998\" y1=\"625.0\" y2=\"625.0\" stroke=\"#1967d2\" stroke-width=\"1\" /><line x1=\"36.90890625\" x2=\"3472.135781249998\" y1=\"675.0\" y2=\"675.0\" stroke=\"#1967d2\" stroke-width=\"1\" /><line x1=\"36.90890625\" x2=\"3472.135781249998\" y1=\"725.0\" y2=\"725.0\" stroke=\"#1967d2\" stroke-width=\"1\" /><line x1=\"36.90890625\" x2=\"3472.135781249998\" y1=\"775.0\" y2=\"775.0\" stroke=\"#1967d2\" stroke-width=\"1\" /><line x1=\"36.90890625\" x2=\"3472.135781249998\" y1=\"825.0\" y2=\"825.0\" stroke=\"#1967d2\" stroke-width=\"1\" /><line x1=\"242.93611328125002\" x2=\"242.93611328125002\" y1=\"25.0\" y2=\"75.0\" stroke=\"black\" stroke-width=\"3\" /><line x1=\"341.17271484375\" x2=\"341.17271484375\" y1=\"25.0\" y2=\"125.0\" stroke=\"black\" stroke-width=\"3\" /><line x1=\"439.40931640625\" x2=\"439.40931640625\" y1=\"25.0\" y2=\"175.0\" stroke=\"black\" stroke-width=\"3\" /><line x1=\"537.64591796875\" x2=\"537.64591796875\" y1=\"25.0\" y2=\"225.0\" stroke=\"black\" stroke-width=\"3\" /><line x1=\"635.8825195312501\" x2=\"635.8825195312501\" y1=\"25.0\" y2=\"275.0\" stroke=\"black\" stroke-width=\"3\" /><line x1=\"734.1191210937501\" x2=\"734.1191210937501\" y1=\"25.0\" y2=\"325.0\" stroke=\"black\" stroke-width=\"3\" /><line x1=\"832.3557226562501\" x2=\"832.3557226562501\" y1=\"25.0\" y2=\"375.0\" stroke=\"black\" stroke-width=\"3\" /><line x1=\"930.5923242187502\" x2=\"930.5923242187502\" y1=\"25.0\" y2=\"425.0\" stroke=\"black\" stroke-width=\"3\" /><line x1=\"1028.82892578125\" x2=\"1028.82892578125\" y1=\"25.0\" y2=\"475.0\" stroke=\"black\" stroke-width=\"3\" /><line x1=\"1127.06552734375\" x2=\"1127.06552734375\" y1=\"25.0\" y2=\"525.0\" stroke=\"black\" stroke-width=\"3\" /><line x1=\"1229.1951953125001\" x2=\"1229.1951953125001\" y1=\"25.0\" y2=\"575.0\" stroke=\"black\" stroke-width=\"3\" /><line x1=\"1335.2102734375003\" x2=\"1335.2102734375003\" y1=\"25.0\" y2=\"625.0\" stroke=\"black\" stroke-width=\"3\" /><line x1=\"1441.2253515625002\" x2=\"1441.2253515625002\" y1=\"25.0\" y2=\"675.0\" stroke=\"black\" stroke-width=\"3\" /><line x1=\"1547.2480859375003\" x2=\"1547.2480859375003\" y1=\"25.0\" y2=\"725.0\" stroke=\"black\" stroke-width=\"3\" /><line x1=\"1653.2708203125003\" x2=\"1653.2708203125003\" y1=\"25.0\" y2=\"775.0\" stroke=\"black\" stroke-width=\"3\" /><line x1=\"1759.2935546875003\" x2=\"1759.2935546875003\" y1=\"25.0\" y2=\"825.0\" stroke=\"black\" stroke-width=\"3\" /><line x1=\"1860.5277148437503\" x2=\"1860.5277148437503\" y1=\"25.0\" y2=\"75.0\" stroke=\"black\" stroke-width=\"3\" /><line x1=\"1956.9733007812504\" x2=\"1956.9733007812504\" y1=\"25.0\" y2=\"125.0\" stroke=\"black\" stroke-width=\"3\" /><line x1=\"2053.4188867187504\" x2=\"2053.4188867187504\" y1=\"25.0\" y2=\"175.0\" stroke=\"black\" stroke-width=\"3\" /><line x1=\"2149.8644726562507\" x2=\"2149.8644726562507\" y1=\"25.0\" y2=\"225.0\" stroke=\"black\" stroke-width=\"3\" /><line x1=\"2246.3100585937505\" x2=\"2246.3100585937505\" y1=\"25.0\" y2=\"275.0\" stroke=\"black\" stroke-width=\"3\" /><line x1=\"2342.7556445312503\" x2=\"2342.7556445312503\" y1=\"25.0\" y2=\"325.0\" stroke=\"black\" stroke-width=\"3\" /><line x1=\"2439.20123046875\" x2=\"2439.20123046875\" y1=\"25.0\" y2=\"375.0\" stroke=\"black\" stroke-width=\"3\" /><line x1=\"2535.64681640625\" x2=\"2535.64681640625\" y1=\"25.0\" y2=\"425.0\" stroke=\"black\" stroke-width=\"3\" /><line x1=\"2632.0924023437497\" x2=\"2632.0924023437497\" y1=\"25.0\" y2=\"475.0\" stroke=\"black\" stroke-width=\"3\" /><line x1=\"2728.5379882812495\" x2=\"2728.5379882812495\" y1=\"25.0\" y2=\"525.0\" stroke=\"black\" stroke-width=\"3\" /><line x1=\"2828.8766406249993\" x2=\"2828.8766406249993\" y1=\"25.0\" y2=\"575.0\" stroke=\"black\" stroke-width=\"3\" /><line x1=\"2933.1007031249987\" x2=\"2933.1007031249987\" y1=\"25.0\" y2=\"625.0\" stroke=\"black\" stroke-width=\"3\" /><line x1=\"3037.324765624999\" x2=\"3037.324765624999\" y1=\"25.0\" y2=\"675.0\" stroke=\"black\" stroke-width=\"3\" /><line x1=\"3141.556484374999\" x2=\"3141.556484374999\" y1=\"25.0\" y2=\"725.0\" stroke=\"black\" stroke-width=\"3\" /><line x1=\"3245.7882031249987\" x2=\"3245.7882031249987\" y1=\"25.0\" y2=\"775.0\" stroke=\"black\" stroke-width=\"3\" /><line x1=\"3350.0199218749985\" x2=\"3350.0199218749985\" y1=\"25.0\" y2=\"825.0\" stroke=\"black\" stroke-width=\"3\" /><rect x=\"10.0\" y=\"5.0\" width=\"53.8178125\" height=\"40\" stroke=\"black\" fill=\"white\" stroke-width=\"0\" /><text x=\"36.90890625\" y=\"25.0\" dominant-baseline=\"middle\" text-anchor=\"middle\" font-size=\"14px\">(-1, -1): </text><rect x=\"10.0\" y=\"55.0\" width=\"53.8178125\" height=\"40\" stroke=\"black\" fill=\"white\" stroke-width=\"0\" /><text x=\"36.90890625\" y=\"75.0\" dominant-baseline=\"middle\" text-anchor=\"middle\" font-size=\"14px\">(0, 0): </text><rect x=\"10.0\" y=\"105.0\" width=\"53.8178125\" height=\"40\" stroke=\"black\" fill=\"white\" stroke-width=\"0\" /><text x=\"36.90890625\" y=\"125.0\" dominant-baseline=\"middle\" text-anchor=\"middle\" font-size=\"14px\">(0, 1): </text><rect x=\"10.0\" y=\"155.0\" width=\"53.8178125\" height=\"40\" stroke=\"black\" fill=\"white\" stroke-width=\"0\" /><text x=\"36.90890625\" y=\"175.0\" dominant-baseline=\"middle\" text-anchor=\"middle\" font-size=\"14px\">(0, 2): </text><rect x=\"10.0\" y=\"205.0\" width=\"53.8178125\" height=\"40\" stroke=\"black\" fill=\"white\" stroke-width=\"0\" /><text x=\"36.90890625\" y=\"225.0\" dominant-baseline=\"middle\" text-anchor=\"middle\" font-size=\"14px\">(0, 3): </text><rect x=\"10.0\" y=\"255.0\" width=\"53.8178125\" height=\"40\" stroke=\"black\" fill=\"white\" stroke-width=\"0\" /><text x=\"36.90890625\" y=\"275.0\" dominant-baseline=\"middle\" text-anchor=\"middle\" font-size=\"14px\">(1, 0): </text><rect x=\"10.0\" y=\"305.0\" width=\"53.8178125\" height=\"40\" stroke=\"black\" fill=\"white\" stroke-width=\"0\" /><text x=\"36.90890625\" y=\"325.0\" dominant-baseline=\"middle\" text-anchor=\"middle\" font-size=\"14px\">(1, 1): </text><rect x=\"10.0\" y=\"355.0\" width=\"53.8178125\" height=\"40\" stroke=\"black\" fill=\"white\" stroke-width=\"0\" /><text x=\"36.90890625\" y=\"375.0\" dominant-baseline=\"middle\" text-anchor=\"middle\" font-size=\"14px\">(1, 2): </text><rect x=\"10.0\" y=\"405.0\" width=\"53.8178125\" height=\"40\" stroke=\"black\" fill=\"white\" stroke-width=\"0\" /><text x=\"36.90890625\" y=\"425.0\" dominant-baseline=\"middle\" text-anchor=\"middle\" font-size=\"14px\">(1, 3): </text><rect x=\"10.0\" y=\"455.0\" width=\"53.8178125\" height=\"40\" stroke=\"black\" fill=\"white\" stroke-width=\"0\" /><text x=\"36.90890625\" y=\"475.0\" dominant-baseline=\"middle\" text-anchor=\"middle\" font-size=\"14px\">(2, 0): </text><rect x=\"10.0\" y=\"505.0\" width=\"53.8178125\" height=\"40\" stroke=\"black\" fill=\"white\" stroke-width=\"0\" /><text x=\"36.90890625\" y=\"525.0\" dominant-baseline=\"middle\" text-anchor=\"middle\" font-size=\"14px\">(2, 1): </text><rect x=\"10.0\" y=\"555.0\" width=\"53.8178125\" height=\"40\" stroke=\"black\" fill=\"white\" stroke-width=\"0\" /><text x=\"36.90890625\" y=\"575.0\" dominant-baseline=\"middle\" text-anchor=\"middle\" font-size=\"14px\">(2, 2): </text><rect x=\"10.0\" y=\"605.0\" width=\"53.8178125\" height=\"40\" stroke=\"black\" fill=\"white\" stroke-width=\"0\" /><text x=\"36.90890625\" y=\"625.0\" dominant-baseline=\"middle\" text-anchor=\"middle\" font-size=\"14px\">(2, 3): </text><rect x=\"10.0\" y=\"655.0\" width=\"53.8178125\" height=\"40\" stroke=\"black\" fill=\"white\" stroke-width=\"0\" /><text x=\"36.90890625\" y=\"675.0\" dominant-baseline=\"middle\" text-anchor=\"middle\" font-size=\"14px\">(3, 0): </text><rect x=\"10.0\" y=\"705.0\" width=\"53.8178125\" height=\"40\" stroke=\"black\" fill=\"white\" stroke-width=\"0\" /><text x=\"36.90890625\" y=\"725.0\" dominant-baseline=\"middle\" text-anchor=\"middle\" font-size=\"14px\">(3, 1): </text><rect x=\"10.0\" y=\"755.0\" width=\"53.8178125\" height=\"40\" stroke=\"black\" fill=\"white\" stroke-width=\"0\" /><text x=\"36.90890625\" y=\"775.0\" dominant-baseline=\"middle\" text-anchor=\"middle\" font-size=\"14px\">(3, 2): </text><rect x=\"10.0\" y=\"805.0\" width=\"53.8178125\" height=\"40\" stroke=\"black\" fill=\"white\" stroke-width=\"0\" /><text x=\"36.90890625\" y=\"825.0\" dominant-baseline=\"middle\" text-anchor=\"middle\" font-size=\"14px\">(3, 3): </text><rect x=\"83.8178125\" y=\"5.0\" width=\"40\" height=\"40\" stroke=\"black\" fill=\"white\" stroke-width=\"1\" /><text x=\"103.8178125\" y=\"25.0\" dominant-baseline=\"middle\" text-anchor=\"middle\" font-size=\"18px\">X</text><rect x=\"143.8178125\" y=\"5.0\" width=\"40\" height=\"40\" stroke=\"black\" fill=\"white\" stroke-width=\"1\" /><text x=\"163.8178125\" y=\"25.0\" dominant-baseline=\"middle\" text-anchor=\"middle\" font-size=\"18px\">H</text><rect x=\"203.8178125\" y=\"55.0\" width=\"78.2366015625\" height=\"40\" stroke=\"black\" fill=\"white\" stroke-width=\"1\" /><text x=\"242.93611328125002\" y=\"75.0\" dominant-baseline=\"middle\" text-anchor=\"middle\" font-size=\"14px\">XX^(xx1-0)</text><rect x=\"203.8178125\" y=\"5.0\" width=\"78.2366015625\" height=\"40\" stroke=\"black\" fill=\"white\" stroke-width=\"1\" /><text x=\"242.93611328125002\" y=\"25.0\" dominant-baseline=\"middle\" text-anchor=\"middle\" font-size=\"14px\">XX</text><rect x=\"302.0544140625\" y=\"105.0\" width=\"78.2366015625\" height=\"40\" stroke=\"black\" fill=\"white\" stroke-width=\"1\" /><text x=\"341.17271484375\" y=\"125.0\" dominant-baseline=\"middle\" text-anchor=\"middle\" font-size=\"14px\">XX^(xx1-1)</text><rect x=\"302.0544140625\" y=\"5.0\" width=\"78.2366015625\" height=\"40\" stroke=\"black\" fill=\"white\" stroke-width=\"1\" /><text x=\"341.17271484375\" y=\"25.0\" dominant-baseline=\"middle\" text-anchor=\"middle\" font-size=\"14px\">XX</text><rect x=\"400.291015625\" y=\"155.0\" width=\"78.2366015625\" height=\"40\" stroke=\"black\" fill=\"white\" stroke-width=\"1\" /><text x=\"439.40931640625\" y=\"175.0\" dominant-baseline=\"middle\" text-anchor=\"middle\" font-size=\"14px\">XX^(xx1-2)</text><rect x=\"400.291015625\" y=\"5.0\" width=\"78.2366015625\" height=\"40\" stroke=\"black\" fill=\"white\" stroke-width=\"1\" /><text x=\"439.40931640625\" y=\"25.0\" dominant-baseline=\"middle\" text-anchor=\"middle\" font-size=\"14px\">XX</text><rect x=\"498.5276171875\" y=\"205.0\" width=\"78.2366015625\" height=\"40\" stroke=\"black\" fill=\"white\" stroke-width=\"1\" /><text x=\"537.64591796875\" y=\"225.0\" dominant-baseline=\"middle\" text-anchor=\"middle\" font-size=\"14px\">XX^(xx1-3)</text><rect x=\"498.5276171875\" y=\"5.0\" width=\"78.2366015625\" height=\"40\" stroke=\"black\" fill=\"white\" stroke-width=\"1\" /><text x=\"537.64591796875\" y=\"25.0\" dominant-baseline=\"middle\" text-anchor=\"middle\" font-size=\"14px\">XX</text><rect x=\"596.76421875\" y=\"255.0\" width=\"78.2366015625\" height=\"40\" stroke=\"black\" fill=\"white\" stroke-width=\"1\" /><text x=\"635.8825195312501\" y=\"275.0\" dominant-baseline=\"middle\" text-anchor=\"middle\" font-size=\"14px\">XX^(xx1-4)</text><rect x=\"596.76421875\" y=\"5.0\" width=\"78.2366015625\" height=\"40\" stroke=\"black\" fill=\"white\" stroke-width=\"1\" /><text x=\"635.8825195312501\" y=\"25.0\" dominant-baseline=\"middle\" text-anchor=\"middle\" font-size=\"14px\">XX</text><rect x=\"695.0008203125001\" y=\"305.0\" width=\"78.2366015625\" height=\"40\" stroke=\"black\" fill=\"white\" stroke-width=\"1\" /><text x=\"734.1191210937501\" y=\"325.0\" dominant-baseline=\"middle\" text-anchor=\"middle\" font-size=\"14px\">XX^(xx1-5)</text><rect x=\"695.0008203125001\" y=\"5.0\" width=\"78.2366015625\" height=\"40\" stroke=\"black\" fill=\"white\" stroke-width=\"1\" /><text x=\"734.1191210937501\" y=\"25.0\" dominant-baseline=\"middle\" text-anchor=\"middle\" font-size=\"14px\">XX</text><rect x=\"793.2374218750001\" y=\"355.0\" width=\"78.2366015625\" height=\"40\" stroke=\"black\" fill=\"white\" stroke-width=\"1\" /><text x=\"832.3557226562501\" y=\"375.0\" dominant-baseline=\"middle\" text-anchor=\"middle\" font-size=\"14px\">XX^(xx1-6)</text><rect x=\"793.2374218750001\" y=\"5.0\" width=\"78.2366015625\" height=\"40\" stroke=\"black\" fill=\"white\" stroke-width=\"1\" /><text x=\"832.3557226562501\" y=\"25.0\" dominant-baseline=\"middle\" text-anchor=\"middle\" font-size=\"14px\">XX</text><rect x=\"891.4740234375001\" y=\"405.0\" width=\"78.2366015625\" height=\"40\" stroke=\"black\" fill=\"white\" stroke-width=\"1\" /><text x=\"930.5923242187502\" y=\"425.0\" dominant-baseline=\"middle\" text-anchor=\"middle\" font-size=\"14px\">XX^(xx1-7)</text><rect x=\"891.4740234375001\" y=\"5.0\" width=\"78.2366015625\" height=\"40\" stroke=\"black\" fill=\"white\" stroke-width=\"1\" /><text x=\"930.5923242187502\" y=\"25.0\" dominant-baseline=\"middle\" text-anchor=\"middle\" font-size=\"14px\">XX</text><rect x=\"989.710625\" y=\"455.0\" width=\"78.2366015625\" height=\"40\" stroke=\"black\" fill=\"white\" stroke-width=\"1\" /><text x=\"1028.82892578125\" y=\"475.0\" dominant-baseline=\"middle\" text-anchor=\"middle\" font-size=\"14px\">XX^(xx1-8)</text><rect x=\"989.710625\" y=\"5.0\" width=\"78.2366015625\" height=\"40\" stroke=\"black\" fill=\"white\" stroke-width=\"1\" /><text x=\"1028.82892578125\" y=\"25.0\" dominant-baseline=\"middle\" text-anchor=\"middle\" font-size=\"14px\">XX</text><rect x=\"1087.9472265625002\" y=\"505.0\" width=\"78.2366015625\" height=\"40\" stroke=\"black\" fill=\"white\" stroke-width=\"1\" /><text x=\"1127.06552734375\" y=\"525.0\" dominant-baseline=\"middle\" text-anchor=\"middle\" font-size=\"14px\">XX^(xx1-9)</text><rect x=\"1087.9472265625002\" y=\"5.0\" width=\"78.2366015625\" height=\"40\" stroke=\"black\" fill=\"white\" stroke-width=\"1\" /><text x=\"1127.06552734375\" y=\"25.0\" dominant-baseline=\"middle\" text-anchor=\"middle\" font-size=\"14px\">XX</text><rect x=\"1186.1838281250002\" y=\"555.0\" width=\"86.02273437500001\" height=\"40\" stroke=\"black\" fill=\"white\" stroke-width=\"1\" /><text x=\"1229.1951953125001\" y=\"575.0\" dominant-baseline=\"middle\" text-anchor=\"middle\" font-size=\"14px\">XX^(xx1-10)</text><rect x=\"1186.1838281250002\" y=\"5.0\" width=\"86.02273437500001\" height=\"40\" stroke=\"black\" fill=\"white\" stroke-width=\"1\" /><text x=\"1229.1951953125001\" y=\"25.0\" dominant-baseline=\"middle\" text-anchor=\"middle\" font-size=\"14px\">XX</text><rect x=\"1292.2065625000002\" y=\"605.0\" width=\"86.007421875\" height=\"40\" stroke=\"black\" fill=\"white\" stroke-width=\"1\" /><text x=\"1335.2102734375003\" y=\"625.0\" dominant-baseline=\"middle\" text-anchor=\"middle\" font-size=\"14px\">XX^(xx1-11)</text><rect x=\"1292.2065625000002\" y=\"5.0\" width=\"86.007421875\" height=\"40\" stroke=\"black\" fill=\"white\" stroke-width=\"1\" /><text x=\"1335.2102734375003\" y=\"25.0\" dominant-baseline=\"middle\" text-anchor=\"middle\" font-size=\"14px\">XX</text><rect x=\"1398.2139843750003\" y=\"655.0\" width=\"86.02273437500001\" height=\"40\" stroke=\"black\" fill=\"white\" stroke-width=\"1\" /><text x=\"1441.2253515625002\" y=\"675.0\" dominant-baseline=\"middle\" text-anchor=\"middle\" font-size=\"14px\">XX^(xx1-12)</text><rect x=\"1398.2139843750003\" y=\"5.0\" width=\"86.02273437500001\" height=\"40\" stroke=\"black\" fill=\"white\" stroke-width=\"1\" /><text x=\"1441.2253515625002\" y=\"25.0\" dominant-baseline=\"middle\" text-anchor=\"middle\" font-size=\"14px\">XX</text><rect x=\"1504.2367187500004\" y=\"705.0\" width=\"86.02273437500001\" height=\"40\" stroke=\"black\" fill=\"white\" stroke-width=\"1\" /><text x=\"1547.2480859375003\" y=\"725.0\" dominant-baseline=\"middle\" text-anchor=\"middle\" font-size=\"14px\">XX^(xx1-13)</text><rect x=\"1504.2367187500004\" y=\"5.0\" width=\"86.02273437500001\" height=\"40\" stroke=\"black\" fill=\"white\" stroke-width=\"1\" /><text x=\"1547.2480859375003\" y=\"25.0\" dominant-baseline=\"middle\" text-anchor=\"middle\" font-size=\"14px\">XX</text><rect x=\"1610.2594531250004\" y=\"755.0\" width=\"86.02273437500001\" height=\"40\" stroke=\"black\" fill=\"white\" stroke-width=\"1\" /><text x=\"1653.2708203125003\" y=\"775.0\" dominant-baseline=\"middle\" text-anchor=\"middle\" font-size=\"14px\">XX^(xx1-14)</text><rect x=\"1610.2594531250004\" y=\"5.0\" width=\"86.02273437500001\" height=\"40\" stroke=\"black\" fill=\"white\" stroke-width=\"1\" /><text x=\"1653.2708203125003\" y=\"25.0\" dominant-baseline=\"middle\" text-anchor=\"middle\" font-size=\"14px\">XX</text><rect x=\"1716.2821875000004\" y=\"805.0\" width=\"86.02273437500001\" height=\"40\" stroke=\"black\" fill=\"white\" stroke-width=\"1\" /><text x=\"1759.2935546875003\" y=\"825.0\" dominant-baseline=\"middle\" text-anchor=\"middle\" font-size=\"14px\">XX^(xx1-15)</text><rect x=\"1716.2821875000004\" y=\"5.0\" width=\"86.02273437500001\" height=\"40\" stroke=\"black\" fill=\"white\" stroke-width=\"1\" /><text x=\"1759.2935546875003\" y=\"25.0\" dominant-baseline=\"middle\" text-anchor=\"middle\" font-size=\"14px\">XX</text><rect x=\"1822.3049218750004\" y=\"55.0\" width=\"76.4455859375\" height=\"40\" stroke=\"black\" fill=\"white\" stroke-width=\"1\" /><text x=\"1860.5277148437503\" y=\"75.0\" dominant-baseline=\"middle\" text-anchor=\"middle\" font-size=\"14px\">ZZ^(zz1-0)</text><rect x=\"1822.3049218750004\" y=\"5.0\" width=\"76.4455859375\" height=\"40\" stroke=\"black\" fill=\"white\" stroke-width=\"1\" /><text x=\"1860.5277148437503\" y=\"25.0\" dominant-baseline=\"middle\" text-anchor=\"middle\" font-size=\"14px\">ZZ</text><rect x=\"1918.7505078125005\" y=\"105.0\" width=\"76.4455859375\" height=\"40\" stroke=\"black\" fill=\"white\" stroke-width=\"1\" /><text x=\"1956.9733007812504\" y=\"125.0\" dominant-baseline=\"middle\" text-anchor=\"middle\" font-size=\"14px\">ZZ^(zz1-1)</text><rect x=\"1918.7505078125005\" y=\"5.0\" width=\"76.4455859375\" height=\"40\" stroke=\"black\" fill=\"white\" stroke-width=\"1\" /><text x=\"1956.9733007812504\" y=\"25.0\" dominant-baseline=\"middle\" text-anchor=\"middle\" font-size=\"14px\">ZZ</text><rect x=\"2015.1960937500005\" y=\"155.0\" width=\"76.4455859375\" height=\"40\" stroke=\"black\" fill=\"white\" stroke-width=\"1\" /><text x=\"2053.4188867187504\" y=\"175.0\" dominant-baseline=\"middle\" text-anchor=\"middle\" font-size=\"14px\">ZZ^(zz1-2)</text><rect x=\"2015.1960937500005\" y=\"5.0\" width=\"76.4455859375\" height=\"40\" stroke=\"black\" fill=\"white\" stroke-width=\"1\" /><text x=\"2053.4188867187504\" y=\"25.0\" dominant-baseline=\"middle\" text-anchor=\"middle\" font-size=\"14px\">ZZ</text><rect x=\"2111.6416796875005\" y=\"205.0\" width=\"76.4455859375\" height=\"40\" stroke=\"black\" fill=\"white\" stroke-width=\"1\" /><text x=\"2149.8644726562507\" y=\"225.0\" dominant-baseline=\"middle\" text-anchor=\"middle\" font-size=\"14px\">ZZ^(zz1-3)</text><rect x=\"2111.6416796875005\" y=\"5.0\" width=\"76.4455859375\" height=\"40\" stroke=\"black\" fill=\"white\" stroke-width=\"1\" /><text x=\"2149.8644726562507\" y=\"25.0\" dominant-baseline=\"middle\" text-anchor=\"middle\" font-size=\"14px\">ZZ</text><rect x=\"2208.0872656250003\" y=\"255.0\" width=\"76.4455859375\" height=\"40\" stroke=\"black\" fill=\"white\" stroke-width=\"1\" /><text x=\"2246.3100585937505\" y=\"275.0\" dominant-baseline=\"middle\" text-anchor=\"middle\" font-size=\"14px\">ZZ^(zz1-4)</text><rect x=\"2208.0872656250003\" y=\"5.0\" width=\"76.4455859375\" height=\"40\" stroke=\"black\" fill=\"white\" stroke-width=\"1\" /><text x=\"2246.3100585937505\" y=\"25.0\" dominant-baseline=\"middle\" text-anchor=\"middle\" font-size=\"14px\">ZZ</text><rect x=\"2304.5328515625\" y=\"305.0\" width=\"76.4455859375\" height=\"40\" stroke=\"black\" fill=\"white\" stroke-width=\"1\" /><text x=\"2342.7556445312503\" y=\"325.0\" dominant-baseline=\"middle\" text-anchor=\"middle\" font-size=\"14px\">ZZ^(zz1-5)</text><rect x=\"2304.5328515625\" y=\"5.0\" width=\"76.4455859375\" height=\"40\" stroke=\"black\" fill=\"white\" stroke-width=\"1\" /><text x=\"2342.7556445312503\" y=\"25.0\" dominant-baseline=\"middle\" text-anchor=\"middle\" font-size=\"14px\">ZZ</text><rect x=\"2400.9784375\" y=\"355.0\" width=\"76.4455859375\" height=\"40\" stroke=\"black\" fill=\"white\" stroke-width=\"1\" /><text x=\"2439.20123046875\" y=\"375.0\" dominant-baseline=\"middle\" text-anchor=\"middle\" font-size=\"14px\">ZZ^(zz1-6)</text><rect x=\"2400.9784375\" y=\"5.0\" width=\"76.4455859375\" height=\"40\" stroke=\"black\" fill=\"white\" stroke-width=\"1\" /><text x=\"2439.20123046875\" y=\"25.0\" dominant-baseline=\"middle\" text-anchor=\"middle\" font-size=\"14px\">ZZ</text><rect x=\"2497.4240234374997\" y=\"405.0\" width=\"76.4455859375\" height=\"40\" stroke=\"black\" fill=\"white\" stroke-width=\"1\" /><text x=\"2535.64681640625\" y=\"425.0\" dominant-baseline=\"middle\" text-anchor=\"middle\" font-size=\"14px\">ZZ^(zz1-7)</text><rect x=\"2497.4240234374997\" y=\"5.0\" width=\"76.4455859375\" height=\"40\" stroke=\"black\" fill=\"white\" stroke-width=\"1\" /><text x=\"2535.64681640625\" y=\"25.0\" dominant-baseline=\"middle\" text-anchor=\"middle\" font-size=\"14px\">ZZ</text><rect x=\"2593.8696093749995\" y=\"455.0\" width=\"76.4455859375\" height=\"40\" stroke=\"black\" fill=\"white\" stroke-width=\"1\" /><text x=\"2632.0924023437497\" y=\"475.0\" dominant-baseline=\"middle\" text-anchor=\"middle\" font-size=\"14px\">ZZ^(zz1-8)</text><rect x=\"2593.8696093749995\" y=\"5.0\" width=\"76.4455859375\" height=\"40\" stroke=\"black\" fill=\"white\" stroke-width=\"1\" /><text x=\"2632.0924023437497\" y=\"25.0\" dominant-baseline=\"middle\" text-anchor=\"middle\" font-size=\"14px\">ZZ</text><rect x=\"2690.3151953124993\" y=\"505.0\" width=\"76.4455859375\" height=\"40\" stroke=\"black\" fill=\"white\" stroke-width=\"1\" /><text x=\"2728.5379882812495\" y=\"525.0\" dominant-baseline=\"middle\" text-anchor=\"middle\" font-size=\"14px\">ZZ^(zz1-9)</text><rect x=\"2690.3151953124993\" y=\"5.0\" width=\"76.4455859375\" height=\"40\" stroke=\"black\" fill=\"white\" stroke-width=\"1\" /><text x=\"2728.5379882812495\" y=\"25.0\" dominant-baseline=\"middle\" text-anchor=\"middle\" font-size=\"14px\">ZZ</text><rect x=\"2786.760781249999\" y=\"555.0\" width=\"84.23171875\" height=\"40\" stroke=\"black\" fill=\"white\" stroke-width=\"1\" /><text x=\"2828.8766406249993\" y=\"575.0\" dominant-baseline=\"middle\" text-anchor=\"middle\" font-size=\"14px\">ZZ^(zz1-10)</text><rect x=\"2786.760781249999\" y=\"5.0\" width=\"84.23171875\" height=\"40\" stroke=\"black\" fill=\"white\" stroke-width=\"1\" /><text x=\"2828.8766406249993\" y=\"25.0\" dominant-baseline=\"middle\" text-anchor=\"middle\" font-size=\"14px\">ZZ</text><rect x=\"2890.992499999999\" y=\"605.0\" width=\"84.21640625\" height=\"40\" stroke=\"black\" fill=\"white\" stroke-width=\"1\" /><text x=\"2933.1007031249987\" y=\"625.0\" dominant-baseline=\"middle\" text-anchor=\"middle\" font-size=\"14px\">ZZ^(zz1-11)</text><rect x=\"2890.992499999999\" y=\"5.0\" width=\"84.21640625\" height=\"40\" stroke=\"black\" fill=\"white\" stroke-width=\"1\" /><text x=\"2933.1007031249987\" y=\"25.0\" dominant-baseline=\"middle\" text-anchor=\"middle\" font-size=\"14px\">ZZ</text><rect x=\"2995.208906249999\" y=\"655.0\" width=\"84.23171875\" height=\"40\" stroke=\"black\" fill=\"white\" stroke-width=\"1\" /><text x=\"3037.324765624999\" y=\"675.0\" dominant-baseline=\"middle\" text-anchor=\"middle\" font-size=\"14px\">ZZ^(zz1-12)</text><rect x=\"2995.208906249999\" y=\"5.0\" width=\"84.23171875\" height=\"40\" stroke=\"black\" fill=\"white\" stroke-width=\"1\" /><text x=\"3037.324765624999\" y=\"25.0\" dominant-baseline=\"middle\" text-anchor=\"middle\" font-size=\"14px\">ZZ</text><rect x=\"3099.440624999999\" y=\"705.0\" width=\"84.23171875\" height=\"40\" stroke=\"black\" fill=\"white\" stroke-width=\"1\" /><text x=\"3141.556484374999\" y=\"725.0\" dominant-baseline=\"middle\" text-anchor=\"middle\" font-size=\"14px\">ZZ^(zz1-13)</text><rect x=\"3099.440624999999\" y=\"5.0\" width=\"84.23171875\" height=\"40\" stroke=\"black\" fill=\"white\" stroke-width=\"1\" /><text x=\"3141.556484374999\" y=\"25.0\" dominant-baseline=\"middle\" text-anchor=\"middle\" font-size=\"14px\">ZZ</text><rect x=\"3203.6723437499986\" y=\"755.0\" width=\"84.23171875\" height=\"40\" stroke=\"black\" fill=\"white\" stroke-width=\"1\" /><text x=\"3245.7882031249987\" y=\"775.0\" dominant-baseline=\"middle\" text-anchor=\"middle\" font-size=\"14px\">ZZ^(zz1-14)</text><rect x=\"3203.6723437499986\" y=\"5.0\" width=\"84.23171875\" height=\"40\" stroke=\"black\" fill=\"white\" stroke-width=\"1\" /><text x=\"3245.7882031249987\" y=\"25.0\" dominant-baseline=\"middle\" text-anchor=\"middle\" font-size=\"14px\">ZZ</text><rect x=\"3307.9040624999984\" y=\"805.0\" width=\"84.23171875\" height=\"40\" stroke=\"black\" fill=\"white\" stroke-width=\"1\" /><text x=\"3350.0199218749985\" y=\"825.0\" dominant-baseline=\"middle\" text-anchor=\"middle\" font-size=\"14px\">ZZ^(zz1-15)</text><rect x=\"3307.9040624999984\" y=\"5.0\" width=\"84.23171875\" height=\"40\" stroke=\"black\" fill=\"white\" stroke-width=\"1\" /><text x=\"3350.0199218749985\" y=\"25.0\" dominant-baseline=\"middle\" text-anchor=\"middle\" font-size=\"14px\">ZZ</text><rect x=\"3412.135781249998\" y=\"5.0\" width=\"40\" height=\"40\" stroke=\"black\" fill=\"white\" stroke-width=\"1\" /><text x=\"3432.135781249998\" y=\"25.0\" dominant-baseline=\"middle\" text-anchor=\"middle\" font-size=\"18px\">H</text></svg>"
      ],
      "text/plain": [
       "<cirq.contrib.svg.svg.SVGCircuit at 0x1c0b1266808>"
      ]
     },
     "execution_count": 17,
     "metadata": {},
     "output_type": "execute_result"
    }
   ],
   "source": [
    "model_circuit, model_readout = creation_modele_quantique()\n",
    "\n",
    "SVGCircuit(model_circuit)"
   ]
  },
  {
   "cell_type": "code",
   "execution_count": 18,
   "metadata": {
    "colab": {},
    "colab_type": "code",
    "id": "Zp8i2ozjdM6p"
   },
   "outputs": [],
   "source": [
    "def hinge_accuracy(y_true, y_pred):\n",
    "    \"\"\" Fonction métrique pour la fonction de coût Hinge\"\"\"\n",
    "\n",
    "    y_true = tf.squeeze(y_true) > 0.0\n",
    "    y_pred = tf.squeeze(y_pred) > 0.0\n",
    "    result = tf.cast(y_true == y_pred, tf.float32)\n",
    "\n",
    "    return tf.reduce_mean(result)"
   ]
  },
  {
   "cell_type": "code",
   "execution_count": 19,
   "metadata": {
    "colab": {
     "base_uri": "https://localhost:8080/",
     "height": 185
    },
    "colab_type": "code",
    "id": "hzCHgDT0tTud",
    "outputId": "3ae4489f-33c7-4d3d-f562-11978734a80b"
   },
   "outputs": [
    {
     "name": "stdout",
     "output_type": "stream",
     "text": [
      "Model: \"sequential\"\n",
      "_________________________________________________________________\n",
      "Layer (type)                 Output Shape              Param #   \n",
      "=================================================================\n",
      "pqc (PQC)                    (None, 1)                 32        \n",
      "=================================================================\n",
      "Total params: 32\n",
      "Trainable params: 32\n",
      "Non-trainable params: 0\n",
      "_________________________________________________________________\n"
     ]
    }
   ],
   "source": [
    "# Convertion du modèle CIRQ en modèle TFQ\n",
    "qnn_model = tf.keras.Sequential(\n",
    "                [tf.keras.layers.Input(shape=(), dtype=tf.string),  # Entrée classique du modèle\n",
    "                 tfq.layers.PQC(model_circuit, model_readout)   ])  # Couches quantiques intermédiaires (PQC : Parametrized Quantum Circuit)\n",
    "\n",
    "# Compilation du modèle\n",
    "qnn_model.compile(loss=tf.keras.losses.Hinge(),  # Fonction de coût adaptée aux problèmes de classification\n",
    "                  optimizer='adam',\n",
    "                  metrics=[hinge_accuracy])\n",
    "\n",
    "# Résumé du modèle\n",
    "qnn_model.summary()"
   ]
  },
  {
   "cell_type": "markdown",
   "metadata": {
    "colab_type": "text",
    "id": "OcDx3IIlyVgX"
   },
   "source": [
    "## Entrainement du modèle quantique "
   ]
  },
  {
   "cell_type": "markdown",
   "metadata": {
    "colab_type": "text",
    "id": "0VGXIXnZyac4"
   },
   "source": [
    "**Attention, cette partie prend environ 6 heures pour s'executer sous Google Collab ou 2 heures localement avec un intel i7-8700 4.30GHz (6 cores / 12 Threads) !**  \n",
    "\n",
    "| Nb d'images | Google Collab |  i7-8700  |  \n",
    "|------------:|--------------:|----------:|  \n",
    "|    12665    |    5h 30min   |  1h 50min |  \n",
    "|     4096    |    1h 40min   |     30min |  \n",
    "|     1024    |       25min   |      8min |  \n",
    "\n",
    "___"
   ]
  },
  {
   "cell_type": "markdown",
   "metadata": {
    "colab_type": "text",
    "id": "czcw0c6tMGEu"
   },
   "source": [
    "Tout est maintenant prêt pour pouvoir entrainer notre modèle quantique sur le dataset traité précédemment. Pour réduire le temps d'entrainement du QNN, il est possible de diminuer arbitrairement le nombre d'images que contient le dataset en voyant tout de même une augmentation du score sur le dataset de test, démontrant ainsi un début d'apprentissage de la part du modèle. Avec la totalité des données disponibles, le score du modèle peut dépasser les 85%.  \n",
    "\n",
    "\n",
    "\n",
    "\n",
    "\n"
   ]
  },
  {
   "cell_type": "code",
   "execution_count": 20,
   "metadata": {
    "colab": {
     "base_uri": "https://localhost:8080/",
     "height": 34
    },
    "colab_type": "code",
    "id": "bD4fLCgTyajA",
    "outputId": "1dd7f673-eb9f-49f3-ec7a-98a9a73373c0"
   },
   "outputs": [
    {
     "name": "stdout",
     "output_type": "stream",
     "text": [
      "4096\n"
     ]
    }
   ],
   "source": [
    "NUM_EXAMPLES = 4096 #len(x_train_tfq)  # 12_665 par défaut\n",
    "\n",
    "x_train_tfq_sub = x_train_tfq[:NUM_EXAMPLES]\n",
    "y_train_sub = 2.0*y_train[:NUM_EXAMPLES]-1  # Labels [0,1] -> [-1,1] (pour adaper à Hinge loss)\n",
    "\n",
    "x_test_tfq_sub = x_test_tfq[:NUM_EXAMPLES]\n",
    "y_test_sub = 2.0*y_test[:NUM_EXAMPLES]-1  # Labels [0,1] -> [-1,1] (pour adaper à Hinge loss)\n",
    "\n",
    "print(NUM_EXAMPLES)"
   ]
  },
  {
   "cell_type": "code",
   "execution_count": 21,
   "metadata": {
    "colab": {
     "base_uri": "https://localhost:8080/",
     "height": 67
    },
    "colab_type": "code",
    "id": "--lwW-6k-iFQ",
    "outputId": "61c482df-56fe-42af-b0d7-e1caebe3e063"
   },
   "outputs": [
    {
     "name": "stdout",
     "output_type": "stream",
     "text": [
      "2115/2115 [==============================] - 13s 6ms/sample - loss: 1.0379 - hinge_accuracy: 0.3277\n",
      "2115/2115 [==============================] - 13s 6ms/sample - loss: 1.0379 - hinge_accuracy: 0.3277\n"
     ]
    }
   ],
   "source": [
    "# Evaluation pré-entrainement\n",
    "qnn_results_0_sub = qnn_model.evaluate(x_test_tfq_sub, y_test_sub)\n",
    "qnn_results_0 = qnn_model.evaluate(x_test_tfq, y_test)"
   ]
  },
  {
   "cell_type": "code",
   "execution_count": 22,
   "metadata": {
    "colab": {
     "base_uri": "https://localhost:8080/",
     "height": 168
    },
    "colab_type": "code",
    "id": "an2Jzwy5yY7C",
    "outputId": "d41e3ed1-7369-48ed-97a3-18aa965a368f"
   },
   "outputs": [
    {
     "name": "stdout",
     "output_type": "stream",
     "text": [
      "Train on 4096 samples, validate on 2115 samples\n",
      "Epoch 1/3\n",
      "4096/4096 [==============================] - 644s 157ms/sample - loss: 0.9830 - hinge_accuracy: 0.5337 - val_loss: 0.9266 - val_hinge_accuracy: 0.6713\n",
      "Epoch 2/3\n",
      "4096/4096 [==============================] - 649s 159ms/sample - loss: 0.8208 - hinge_accuracy: 0.6694 - val_loss: 0.7153 - val_hinge_accuracy: 0.6732\n",
      "Epoch 3/3\n",
      "4096/4096 [==============================] - 652s 159ms/sample - loss: 0.6778 - hinge_accuracy: 0.6689 - val_loss: 0.6161 - val_hinge_accuracy: 0.6895\n",
      "\n",
      "Time : 32 min 25 sec\n"
     ]
    }
   ],
   "source": [
    "T0 = time()\n",
    "\n",
    "# Entrainement du modèle\n",
    "qnn_history = qnn_model.fit(x_train_tfq_sub, y_train_sub,\n",
    "                            batch_size=32,\n",
    "                            epochs=3,\n",
    "                            verbose=1,\n",
    "                            validation_data=(x_test_tfq_sub, y_test_sub))\n",
    "\n",
    "T1 = time()\n",
    "qnn_T = T1-T0\n",
    "print(\"\\nTime : {} min {} sec\".format(int(qnn_T//60), round(qnn_T%60)))"
   ]
  },
  {
   "cell_type": "code",
   "execution_count": 23,
   "metadata": {
    "colab": {
     "base_uri": "https://localhost:8080/",
     "height": 355
    },
    "colab_type": "code",
    "id": "98XShM9ETw74",
    "outputId": "b03de222-a229-44f1-bccf-f35b3386ea4e"
   },
   "outputs": [
    {
     "data": {
      "text/plain": [
       "Text(0, 0.5, 'Accuracy')"
      ]
     },
     "execution_count": 23,
     "metadata": {},
     "output_type": "execute_result"
    },
    {
     "data": {
      "image/png": "[encoded data removed]",
      "text/plain": [
       "<Figure size 792x360 with 1 Axes>"
      ]
     },
     "metadata": {
      "needs_background": "light"
     },
     "output_type": "display_data"
    }
   ],
   "source": [
    "# Affichage des métriques d'entrainement\n",
    "X = range(len(qnn_history.history['loss'])+1)\n",
    "\n",
    "plt.figure(figsize=(11,5))\n",
    "\n",
    "# plt.subplot(1,2,1)\n",
    "# plt.plot(X, qnn_history.history['loss'], 'r')\n",
    "# plt.plot(X, qnn_history.history['val_loss'], 'b')\n",
    "# plt.xticks(X)\n",
    "# plt.ylim(bottom=0)\n",
    "# plt.xlabel(\"Epoch\")\n",
    "# plt.ylabel(\"Loss\")\n",
    "\n",
    "# plt.subplot(1,2,2)\n",
    "plt.plot(X, [qnn_results_0_sub[1]] + qnn_history.history['hinge_accuracy'], 'r')\n",
    "plt.plot(X, [qnn_results_0[1]] + qnn_history.history['val_hinge_accuracy'], 'b')\n",
    "plt.xticks(X)\n",
    "plt.ylim(0,1)\n",
    "plt.legend(['Train accuracy', 'Test accuracy'])\n",
    "plt.xlabel(\"Epoch\")\n",
    "plt.ylabel(\"Accuracy\")"
   ]
  },
  {
   "cell_type": "code",
   "execution_count": 24,
   "metadata": {
    "colab": {
     "base_uri": "https://localhost:8080/",
     "height": 101
    },
    "colab_type": "code",
    "id": "3-v2uSCoSHVb",
    "outputId": "c72d67cf-f965-45c8-df3f-1e97eb77cbfa"
   },
   "outputs": [
    {
     "name": "stdout",
     "output_type": "stream",
     "text": [
      "2115/2115 [==============================] - 13s 6ms/sample - loss: 0.6161 - hinge_accuracy: 0.6895\n",
      "\n",
      "Pre-entrainement accuracy : 32.77%\n",
      "Post-entrainement accuracy : 68.95%\n"
     ]
    }
   ],
   "source": [
    "# Evaluation post-entrainement\n",
    "qnn_results_1 = qnn_model.evaluate(x_test_tfq, y_test)\n",
    "\n",
    "print(\"\\nPre-entrainement accuracy : {}%\".format(round(100*qnn_results_0[1], 2)))\n",
    "print(\"Post-entrainement accuracy : {}%\".format(round(100*qnn_results_1[1], 2)))"
   ]
  },
  {
   "cell_type": "markdown",
   "metadata": {
    "colab_type": "text",
    "id": "S6L_EHy1DXAz"
   },
   "source": [
    "<a id=\"part_4\"></a>\n",
    "# IV - Réseau de Neurone Classique"
   ]
  },
  {
   "cell_type": "markdown",
   "metadata": {
    "colab_type": "text",
    "id": "sr-STSceDXDG"
   },
   "source": [
    "Voyons finalement comment se comporte un réseau de neurones classique face à cette tâche. Afin de garantir une comparaison juste, nous allons créer un modèle très similaire au modèle quantique, avec le même nombre de paramètres et sans réseaux de convolution ou autres techniques particulièrement adaptées au traitement d'images."
   ]
  },
  {
   "cell_type": "code",
   "execution_count": 25,
   "metadata": {
    "colab": {
     "base_uri": "https://localhost:8080/",
     "height": 34
    },
    "colab_type": "code",
    "id": "mJign9kgkyx7",
    "outputId": "9161a4d8-5c3b-4fb5-8551-b2e5d0b8488b"
   },
   "outputs": [
    {
     "name": "stdout",
     "output_type": "stream",
     "text": [
      "4096\n"
     ]
    }
   ],
   "source": [
    "x_train_bin_sub = x_train_bin[:NUM_EXAMPLES]\n",
    "y_train_sub = 2.0*y_train[:NUM_EXAMPLES]-1  # Labels [0,1] -> [-1,1] (pour adaper à Hinge loss)\n",
    "\n",
    "x_test_bin_sub = x_test_bin[:NUM_EXAMPLES]\n",
    "y_test_sub = 2.0*y_test[:NUM_EXAMPLES]-1  # Labels [0,1] -> [-1,1] (pour adaper à Hinge loss)\n",
    "\n",
    "print(NUM_EXAMPLES)"
   ]
  },
  {
   "cell_type": "code",
   "execution_count": 26,
   "metadata": {
    "colab": {},
    "colab_type": "code",
    "id": "4wckMG9OicV5"
   },
   "outputs": [],
   "source": [
    "def creation_modele_classique():\n",
    "    # Creation d'un Réseau de Neurones Classique\"\n",
    "\n",
    "    model = tf.keras.Sequential()\n",
    "    model.add(tf.keras.layers.Flatten(input_shape=(4,4,1)))\n",
    "    model.add(tf.keras.layers.Dense(2, activation='relu'))\n",
    "    model.add(tf.keras.layers.Dense(1))\n",
    "    \n",
    "    return model"
   ]
  },
  {
   "cell_type": "code",
   "execution_count": 27,
   "metadata": {
    "colab": {
     "base_uri": "https://localhost:8080/",
     "height": 252
    },
    "colab_type": "code",
    "id": "pf5Nrvhgj6Tv",
    "outputId": "5936d3f3-9e5a-406b-e01e-d66a1ce4c170"
   },
   "outputs": [
    {
     "name": "stdout",
     "output_type": "stream",
     "text": [
      "Model: \"sequential_1\"\n",
      "_________________________________________________________________\n",
      "Layer (type)                 Output Shape              Param #   \n",
      "=================================================================\n",
      "flatten (Flatten)            (None, 16)                0         \n",
      "_________________________________________________________________\n",
      "dense (Dense)                (None, 2)                 34        \n",
      "_________________________________________________________________\n",
      "dense_1 (Dense)              (None, 1)                 3         \n",
      "=================================================================\n",
      "Total params: 37\n",
      "Trainable params: 37\n",
      "Non-trainable params: 0\n",
      "_________________________________________________________________\n"
     ]
    }
   ],
   "source": [
    "# Création du modèle\n",
    "model = creation_modele_classique()\n",
    "\n",
    "# Compilation du modèle\n",
    "model.compile(loss=tf.keras.losses.Hinge(),\n",
    "              optimizer='adam',\n",
    "              metrics=[hinge_accuracy])\n",
    "\n",
    "# Résumé du modèle\n",
    "model.summary()"
   ]
  },
  {
   "cell_type": "code",
   "execution_count": 28,
   "metadata": {
    "colab": {
     "base_uri": "https://localhost:8080/",
     "height": 34
    },
    "colab_type": "code",
    "id": "7lFWCmVI_Eth",
    "outputId": "67292743-2e97-4c2d-faca-cded736ec469"
   },
   "outputs": [
    {
     "name": "stdout",
     "output_type": "stream",
     "text": [
      "2115/2115 [==============================] - 0s 85us/sample - loss: 0.9919 - hinge_accuracy: 0.4846\n",
      "2115/2115 [==============================] - 0s 86us/sample - loss: 0.9919 - hinge_accuracy: 0.4846\n"
     ]
    }
   ],
   "source": [
    "# Evaluation pré-entrainement\n",
    "results_0_sub = model.evaluate(x_test_bin_sub, y_test_sub)\n",
    "results_0 = model.evaluate(x_test_bin, y_test)"
   ]
  },
  {
   "cell_type": "code",
   "execution_count": 29,
   "metadata": {
    "colab": {
     "base_uri": "https://localhost:8080/",
     "height": 319
    },
    "colab_type": "code",
    "id": "c2AdEGDpkSpa",
    "outputId": "069b6486-0877-401b-cfb3-11205497c274"
   },
   "outputs": [
    {
     "name": "stdout",
     "output_type": "stream",
     "text": [
      "Train on 4096 samples, validate on 2115 samples\n",
      "Epoch 1/10\n",
      "Epoch 2/10\n",
      "Epoch 3/10\n",
      "Epoch 4/10\n",
      "Epoch 5/10\n",
      "Epoch 6/10\n",
      "Epoch 7/10\n",
      "Epoch 8/10\n",
      "Epoch 9/10\n",
      "Epoch 10/10\n",
      "\n",
      "Time : 0 min 3 sec\n"
     ]
    }
   ],
   "source": [
    "T0 = time()\n",
    "\n",
    "# Entrainement du modèle\n",
    "history = model.fit(x_train_bin_sub, y_train_sub,\n",
    "                    batch_size=32,\n",
    "                    epochs=10,\n",
    "                    verbose=3,\n",
    "                    validation_data=(x_test_bin_sub, y_test_sub))\n",
    "\n",
    "T1 = time()\n",
    "T = T1-T0\n",
    "print(\"\\nTime : {} min {} sec\".format(int(T//60), round(T%60)))"
   ]
  },
  {
   "cell_type": "code",
   "execution_count": 30,
   "metadata": {
    "colab": {
     "base_uri": "https://localhost:8080/",
     "height": 355
    },
    "colab_type": "code",
    "id": "7slb1SDVlHLs",
    "outputId": "6068c571-dd53-4c74-d0dd-223a4da8a356"
   },
   "outputs": [
    {
     "data": {
      "text/plain": [
       "Text(0, 0.5, 'Accuracy')"
      ]
     },
     "execution_count": 30,
     "metadata": {},
     "output_type": "execute_result"
    },
    {
     "data": {
      "image/png": "[encoded data removed]",
      "text/plain": [
       "<Figure size 792x360 with 1 Axes>"
      ]
     },
     "metadata": {
      "needs_background": "light"
     },
     "output_type": "display_data"
    }
   ],
   "source": [
    "# Affichage des métriques d'entrainement\n",
    "X = range(len(history.history['loss'])+1)\n",
    "\n",
    "plt.figure(figsize=(11,5))\n",
    "\n",
    "# plt.subplot(1,2,1)\n",
    "# plt.plot(X, history.history['loss'], 'r')\n",
    "# plt.plot(X, history.history['val_loss'], 'b')\n",
    "# plt.xticks(X)\n",
    "# plt.ylim(bottom=0)\n",
    "# plt.xlabel(\"Epoch\")\n",
    "# plt.ylabel(\"Loss\")\n",
    "\n",
    "# plt.subplot(1,2,2)\n",
    "plt.plot(X, [results_0_sub[1]] + history.history['hinge_accuracy'], 'r')\n",
    "plt.plot(X, [results_0[1]] + history.history['val_hinge_accuracy'], 'b')\n",
    "plt.xticks(X)\n",
    "plt.ylim(0,1)\n",
    "plt.legend(['Train accuracy', 'Test accuracy'])\n",
    "plt.xlabel(\"Epoch\")\n",
    "plt.ylabel(\"Accuracy\")"
   ]
  },
  {
   "cell_type": "code",
   "execution_count": 31,
   "metadata": {
    "colab": {
     "base_uri": "https://localhost:8080/",
     "height": 101
    },
    "colab_type": "code",
    "id": "hDFMXLzplJFF",
    "outputId": "bab380dd-7dc6-454e-b2fb-d16a8a22bd05"
   },
   "outputs": [
    {
     "name": "stdout",
     "output_type": "stream",
     "text": [
      "2115/2115 [==============================] - 0s 45us/sample - loss: 0.2021 - hinge_accuracy: 0.9044\n",
      "\n",
      "Pre-entrainement accuracy : 48.46%\n",
      "Post-entrainement accuracy : 90.44%\n"
     ]
    }
   ],
   "source": [
    "# Evaluation post-entrainement\n",
    "results_1 = model.evaluate(x_test_bin, y_test)\n",
    "\n",
    "print(\"\\nPre-entrainement accuracy : {}%\".format(round(100*results_0[1], 2)))\n",
    "print(\"Post-entrainement accuracy : {}%\".format(round(100*results_1[1], 2)))"
   ]
  },
  {
   "cell_type": "markdown",
   "metadata": {
    "colab_type": "text",
    "id": "hfxoVSNkDXFZ"
   },
   "source": [
    "<a id=\"part_5\"></a>\n",
    "# V - Conclusion"
   ]
  },
  {
   "cell_type": "code",
   "execution_count": 32,
   "metadata": {
    "colab": {
     "base_uri": "https://localhost:8080/",
     "height": 331
    },
    "colab_type": "code",
    "id": "TfLqVu-Wl782",
    "outputId": "518a6f12-42a9-4da8-ef30-4d560208d2e3"
   },
   "outputs": [
    {
     "data": {
      "image/png": "[encoded data removed]",
      "text/plain": [
       "<Figure size 792x360 with 2 Axes>"
      ]
     },
     "metadata": {
      "needs_background": "light"
     },
     "output_type": "display_data"
    }
   ],
   "source": [
    "# comparaison entre les deux réseaux de neurones\n",
    "plt.figure(figsize=(11,5))\n",
    "\n",
    "plt.subplot(1,2,1)\n",
    "sns.barplot([\"Accuracy\\nQuantique\", \"Accuracy\\nClassique\"],\n",
    "            [qnn_results_1[1], results_1[1]])\n",
    "\n",
    "ax = plt.subplot(1,2,2)\n",
    "sns.barplot([\"Temps\\nQuantique\", \"Temps\\nClassique\"],\n",
    "            [qnn_T, T])\n",
    "ax.set_yscale('log')"
   ]
  },
  {
   "cell_type": "markdown",
   "metadata": {
    "colab_type": "text",
    "id": "T8P1ZJ_iRD_F"
   },
   "source": [
    "Ainsi, on peut voir que même si le réseau de neurone quantique atteint un score honorable de plus de 65% avec seulement 1024 images de très basse résolution, le réseau de neurone classique obtient un score bien plus élevé avec un temps d'entrainement de quelques secondes contre plusieurs dizaines de minutes pour le QNN (soit 1500 fois plus rapide). De plus, le simulateur de processeur quantique ne s'exécutant que sur le CPU, cela ne permet pas d'utiliser le potentiel énorme qu'offrent les cartes graphiques pour le Deep Learning classique.  "
   ]
  },
  {
   "cell_type": "markdown",
   "metadata": {
    "colab_type": "text",
    "id": "3rfXLkLTQ7aa"
   },
   "source": [
    "Pour conclure, même si cela reste possible, les réseaux de neurones entièrement quantiques ne sont pas adaptés à ce genre de taches. La meilleure solution reste une approche hybride où le processeur quantique se contente de calculer la fonction de coût (partie généralement très lourde en calculs mais parfaitement adaptée au paradigme quantique) avant de retourner les informations au processeur classique qui fait les ajustements nécessaires puis appelle une nouvelle fois le processeur quantique et ainsi de suite (approche NISQ vue en introduction).\n",
    "\n",
    "<p align=\"center\">\n",
    "<i>“For classical data, it is difficult to beat a classical neural network” (Documentation de TFQ)</i>\n",
    "</p>"
   ]
  }
 ],
 "metadata": {
  "colab": {
   "collapsed_sections": [],
   "name": "Quantum Computing Project - TensorFlow Quantum.ipynb",
   "provenance": [],
   "toc_visible": true
  },
  "kernelspec": {
   "display_name": "Python 3",
   "language": "python",
   "name": "python3"
  },
  "language_info": {
   "codemirror_mode": {
    "name": "ipython",
    "version": 3
   },
   "file_extension": ".py",
   "mimetype": "text/x-python",
   "name": "python",
   "nbconvert_exporter": "python",
   "pygments_lexer": "ipython3",
   "version": "3.7.6"
  }
 },
 "nbformat": 4,
 "nbformat_minor": 1
}
